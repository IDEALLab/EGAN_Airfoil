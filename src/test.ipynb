{
 "metadata": {
  "language_info": {
   "codemirror_mode": {
    "name": "ipython",
    "version": 3
   },
   "file_extension": ".py",
   "mimetype": "text/x-python",
   "name": "python",
   "nbconvert_exporter": "python",
   "pygments_lexer": "ipython3",
   "version": "3.7.9-final"
  },
  "orig_nbformat": 2,
  "kernelspec": {
   "name": "python_defaultSpec_1599527321904",
   "display_name": "Python 3.7.9 64-bit ('base': conda)"
  }
 },
 "nbformat": 4,
 "nbformat_minor": 2,
 "cells": [
  {
   "cell_type": "code",
   "execution_count": 1,
   "metadata": {},
   "outputs": [],
   "source": [
    "import torch\n",
    "from layers import BezierLayer"
   ]
  },
  {
   "cell_type": "code",
   "execution_count": 2,
   "metadata": {
    "tags": []
   },
   "outputs": [
    {
     "output_type": "execute_result",
     "data": {
      "text/plain": "(tensor([[[0.6238, 0.7070, 0.6500,  ..., 0.2459, 0.1268, 0.0047],\n          [0.8056, 0.7055, 0.7016,  ..., 0.5148, 0.4882, 0.4839]],\n \n         [[0.5414, 0.3875, 0.3561,  ..., 0.2568, 0.3363, 0.4752],\n          [0.6756, 0.6324, 0.5851,  ..., 0.0838, 0.0857, 0.1056]],\n \n         [[0.4404, 0.5928, 0.6697,  ..., 0.8881, 0.9346, 0.9524],\n          [0.4088, 0.3434, 0.3519,  ..., 0.7225, 0.6971, 0.6709]],\n \n         ...,\n \n         [[0.5852, 0.5926, 0.5668,  ..., 0.8898, 0.8816, 0.6075],\n          [0.5425, 0.5621, 0.5475,  ..., 0.7004, 0.7529, 0.7326]],\n \n         [[0.5888, 0.6323, 0.7038,  ..., 0.1148, 0.0726, 0.0339],\n          [0.1304, 0.2286, 0.3053,  ..., 0.7711, 0.8661, 0.9613]],\n \n         [[0.9535, 0.8302, 0.7089,  ..., 0.7515, 0.9204, 0.9778],\n          [0.7676, 0.6830, 0.5919,  ..., 0.7629, 0.8004, 0.8153]]],\n        grad_fn=<DivBackward0>),\n tensor([[[0.0000, 0.0308, 0.0616,  ..., 0.9559, 0.9836, 1.0000]],\n \n         [[0.0000, 0.0384, 0.0659,  ..., 0.9614, 0.9879, 1.0000]],\n \n         [[0.0000, 0.0311, 0.0607,  ..., 0.9569, 0.9832, 1.0000]],\n \n         ...,\n \n         [[0.0000, 0.0404, 0.0646,  ..., 0.9580, 0.9883, 1.0000]],\n \n         [[0.0000, 0.0256, 0.0533,  ..., 0.9486, 0.9791, 1.0000]],\n \n         [[0.0000, 0.0307, 0.0542,  ..., 0.9548, 0.9831, 1.0000]]],\n        grad_fn=<UnsqueezeBackward0>),\n tensor([[0.0000, 0.0308, 0.0308,  ..., 0.0299, 0.0277, 0.0164],\n         [0.0000, 0.0384, 0.0275,  ..., 0.0409, 0.0265, 0.0121],\n         [0.0000, 0.0311, 0.0296,  ..., 0.0248, 0.0263, 0.0168],\n         ...,\n         [0.0000, 0.0404, 0.0242,  ..., 0.0496, 0.0303, 0.0117],\n         [0.0000, 0.0256, 0.0277,  ..., 0.0298, 0.0305, 0.0209],\n         [0.0000, 0.0307, 0.0235,  ..., 0.0391, 0.0283, 0.0169]],\n        grad_fn=<ConstantPadNdBackward>))"
     },
     "metadata": {},
     "execution_count": 2
    }
   ],
   "source": [
    "bl = BezierLayer(10, 20, 40)\n",
    "cp = torch.rand(50, 2, 20) * 1\n",
    "w = torch.rand(50, 1, 20) * 1\n",
    "ipt = torch.rand(50, 10) * 1\n",
    "bl(ipt, cp, w)"
   ]
  },
  {
   "cell_type": "code",
   "execution_count": 3,
   "metadata": {},
   "outputs": [
    {
     "output_type": "execute_result",
     "data": {
      "text/plain": "tensor([99.8777,     inf])"
     },
     "metadata": {},
     "execution_count": 3
    }
   ],
   "source": [
    "torch.lgamma(torch.Tensor(2))"
   ]
  },
  {
   "cell_type": "code",
   "execution_count": 4,
   "metadata": {},
   "outputs": [],
   "source": [
    "a = torch.tensor(10.)"
   ]
  },
  {
   "cell_type": "code",
   "execution_count": 5,
   "metadata": {},
   "outputs": [
    {
     "output_type": "execute_result",
     "data": {
      "text/plain": "tensor(10.)"
     },
     "metadata": {},
     "execution_count": 5
    }
   ],
   "source": [
    "a"
   ]
  },
  {
   "cell_type": "code",
   "execution_count": 6,
   "metadata": {},
   "outputs": [
    {
     "output_type": "execute_result",
     "data": {
      "text/plain": "False"
     },
     "metadata": {},
     "execution_count": 6
    }
   ],
   "source": [
    "a.requires_grad"
   ]
  },
  {
   "cell_type": "code",
   "execution_count": 7,
   "metadata": {},
   "outputs": [],
   "source": [
    "b = torch.log(a)"
   ]
  },
  {
   "cell_type": "code",
   "execution_count": 8,
   "metadata": {},
   "outputs": [
    {
     "output_type": "execute_result",
     "data": {
      "text/plain": "False"
     },
     "metadata": {},
     "execution_count": 8
    }
   ],
   "source": [
    "b.requires_grad"
   ]
  },
  {
   "cell_type": "code",
   "execution_count": null,
   "metadata": {},
   "outputs": [],
   "source": []
  }
 ]
}