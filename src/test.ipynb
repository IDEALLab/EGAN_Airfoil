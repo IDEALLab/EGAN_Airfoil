{
 "metadata": {
  "language_info": {
   "codemirror_mode": {
    "name": "ipython",
    "version": 3
   },
   "file_extension": ".py",
   "mimetype": "text/x-python",
   "name": "python",
   "nbconvert_exporter": "python",
   "pygments_lexer": "ipython3",
   "version": "3.7.9-final"
  },
  "orig_nbformat": 2,
  "kernelspec": {
   "name": "python_defaultSpec_1599531272324",
   "display_name": "Python 3.7.9 64-bit ('base': conda)"
  }
 },
 "nbformat": 4,
 "nbformat_minor": 2,
 "cells": [
  {
   "cell_type": "code",
   "execution_count": 1,
   "metadata": {},
   "outputs": [],
   "source": [
    "import torch\n",
    "from layers import BezierLayer"
   ]
  },
  {
   "cell_type": "code",
   "execution_count": 2,
   "metadata": {
    "tags": []
   },
   "outputs": [
    {
     "output_type": "execute_result",
     "data": {
      "text/plain": "(tensor([[[0.6048, 0.7544, 0.7981,  ..., 0.4695, 0.5027, 0.3575],\n          [0.9652, 0.8053, 0.6972,  ..., 0.3413, 0.2933, 0.3419]],\n \n         [[0.0420, 0.2768, 0.3962,  ..., 0.4308, 0.4453, 0.4428],\n          [0.1248, 0.4746, 0.6096,  ..., 0.5548, 0.6080, 0.6672]],\n \n         [[0.4313, 0.4071, 0.4116,  ..., 0.4878, 0.5111, 0.5453],\n          [0.3200, 0.4029, 0.4736,  ..., 0.2257, 0.2420, 0.4040]],\n \n         ...,\n \n         [[0.6239, 0.6935, 0.7528,  ..., 0.8409, 0.8934, 0.9261],\n          [0.5466, 0.4745, 0.4183,  ..., 0.1868, 0.1880, 0.1972]],\n \n         [[0.4355, 0.4662, 0.5834,  ..., 0.7340, 0.7045, 0.6147],\n          [0.3144, 0.2875, 0.2734,  ..., 0.5892, 0.5558, 0.3872]],\n \n         [[0.1356, 0.2637, 0.3415,  ..., 0.5457, 0.5556, 0.5773],\n          [0.3498, 0.4831, 0.5743,  ..., 0.4705, 0.4874, 0.4913]]],\n        grad_fn=<DivBackward0>),\n tensor([[[0.0000, 0.0265, 0.0555,  ..., 0.9733, 0.9896, 1.0000]],\n \n         [[0.0000, 0.0163, 0.0354,  ..., 0.9738, 0.9889, 1.0000]],\n \n         [[0.0000, 0.0215, 0.0439,  ..., 0.9672, 0.9836, 1.0000]],\n \n         ...,\n \n         [[0.0000, 0.0205, 0.0456,  ..., 0.9684, 0.9876, 1.0000]],\n \n         [[0.0000, 0.0218, 0.0479,  ..., 0.9704, 0.9876, 1.0000]],\n \n         [[0.0000, 0.0240, 0.0479,  ..., 0.9674, 0.9868, 1.0000]]],\n        grad_fn=<UnsqueezeBackward0>),\n tensor([[0.0000, 0.0265, 0.0290,  ..., 0.0245, 0.0163, 0.0104],\n         [0.0000, 0.0163, 0.0191,  ..., 0.0219, 0.0151, 0.0111],\n         [0.0000, 0.0215, 0.0224,  ..., 0.0173, 0.0164, 0.0164],\n         ...,\n         [0.0000, 0.0205, 0.0250,  ..., 0.0241, 0.0192, 0.0124],\n         [0.0000, 0.0218, 0.0261,  ..., 0.0230, 0.0172, 0.0124],\n         [0.0000, 0.0240, 0.0238,  ..., 0.0218, 0.0194, 0.0132]],\n        grad_fn=<ConstantPadNdBackward>))"
     },
     "metadata": {},
     "execution_count": 2
    }
   ],
   "source": [
    "bl = BezierLayer(10, 20, 40)\n",
    "cp = torch.rand(50, 2, 20) * 1\n",
    "w = torch.rand(50, 1, 20) * 1\n",
    "ipt = torch.rand(50, 10) * 1\n",
    "bl(ipt, cp, w)"
   ]
  },
  {
   "cell_type": "code",
   "execution_count": 3,
   "metadata": {},
   "outputs": [
    {
     "output_type": "execute_result",
     "data": {
      "text/plain": "tensor([    inf, -0.0477])"
     },
     "metadata": {},
     "execution_count": 3
    }
   ],
   "source": [
    "torch.lgamma(torch.Tensor(2))"
   ]
  },
  {
   "cell_type": "code",
   "execution_count": 16,
   "metadata": {
    "tags": []
   },
   "outputs": [
    {
     "output_type": "stream",
     "name": "stdout",
     "text": "tensor([0, 1, 2, 3, 4, 5, 6, 7, 8, 9])\n"
    }
   ],
   "source": [
    "a = torch.arange(0, 10)\n",
    "print(a)"
   ]
  },
  {
   "cell_type": "code",
   "execution_count": 17,
   "metadata": {
    "tags": []
   },
   "outputs": [
    {
     "output_type": "stream",
     "name": "stdout",
     "text": "tensor([9, 8, 7, 6, 5, 4, 3, 2, 1, 0])\n"
    }
   ],
   "source": [
    "b = a.flip((0,))\n",
    "a[1] = 100\n",
    "print(b)"
   ]
  },
  {
   "cell_type": "code",
   "execution_count": null,
   "metadata": {},
   "outputs": [],
   "source": []
  }
 ]
}